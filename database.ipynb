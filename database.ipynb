{
 "cells": [
  {
   "cell_type": "code",
   "execution_count": 4,
   "id": "602c71e9",
   "metadata": {},
   "outputs": [],
   "source": [
    "# pip install yfinance pandas\n",
    "import yfinance as yf\n",
    "import pandas as pd"
   ]
  },
  {
   "cell_type": "code",
   "execution_count": null,
   "id": "8b848bf7",
   "metadata": {},
   "outputs": [],
   "source": [
    "# 1) Put your tickers here (can be hundreds+). Example:\n",
    "tickers = [\"AAPL\",\"MSFT\",\"GOOGL\",\"AMZN\",\"META\",\"TSLA\"]\n",
    "\n",
    "# 2) Download daily prices (adjusted)\n",
    "data = yf.download(\n",
    "    tickers=\" \".join(tickers),\n",
    "    start=\"2010-01-01\",\n",
    "    auto_adjust=True,      # ensures dividends/splits included in price\n",
    "    progress=False,\n",
    "    group_by=\"ticker\",     # returns a column MultiIndex if many tickers\n",
    "    threads=True\n",
    ")\n",
    "\n",
    "# 3) Extract adjusted closes into a clean wide DataFrame\n",
    "def get_adj_close(df):\n",
    "    if isinstance(df.columns, pd.MultiIndex):\n",
    "        # multi-ticker shape: top level = ticker, second level = fields\n",
    "        closes = pd.concat({t: df[t][\"Close\"] for t in tickers}, axis=1)\n",
    "    else:\n",
    "        # single-ticker shape: columns like ['Open','High',...]\n",
    "        closes = df[\"Close\"].to_frame(tickers[0])\n",
    "    return closes\n",
    "\n",
    "adj_close = get_adj_close(data).sort_index()\n",
    "\n",
    "# 4) Convert to monthly prices (month-end) and compute simple returns\n",
    "monthly_prices = adj_close.resample(\"M\").last()\n",
    "monthly_returns = monthly_prices.pct_change()\n",
    "\n",
    "# (optional) log returns:\n",
    "monthly_log_returns = (monthly_prices / monthly_prices.shift(1)).applymap(lambda x: pd.NA if pd.isna(x) else pd.Series([pd.np.log(x)])).iloc[:,0]\n",
    "\n",
    "# 5) Tidy (long) format if you prefer\n",
    "monthly_returns_long = (\n",
    "    monthly_returns\n",
    "    .stack()\n",
    "    .rename(\"ret\")\n",
    "    .reset_index()\n",
    "    .rename(columns={\"level_1\": \"ticker\", \"Date\": \"month\"})\n",
    ")\n",
    "\n",
    "print(monthly_returns.head())\n",
    "print(monthly_returns_long.head())"
   ]
  }
 ],
 "metadata": {
  "kernelspec": {
   "display_name": "fama_french_factor_model",
   "language": "python",
   "name": "python3"
  },
  "language_info": {
   "codemirror_mode": {
    "name": "ipython",
    "version": 3
   },
   "file_extension": ".py",
   "mimetype": "text/x-python",
   "name": "python",
   "nbconvert_exporter": "python",
   "pygments_lexer": "ipython3",
   "version": "3.12.11"
  }
 },
 "nbformat": 4,
 "nbformat_minor": 5
}
